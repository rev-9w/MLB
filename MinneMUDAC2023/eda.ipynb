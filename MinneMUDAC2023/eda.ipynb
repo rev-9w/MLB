{
 "cells": [
  {
   "cell_type": "code",
   "execution_count": null,
   "metadata": {},
   "outputs": [],
   "source": [
    "import pandas as pd\n",
    "import os\n",
    "import glob\n",
    "\n",
    "# Replace this with the path to your directory containing the CSV files\n",
    "directory_path = \"C:\\Users\\solem\\Desktop\\MLB\\MinneMUDAC2023\\glws.txt\"\n",
    "\n",
    "# Change the working directory to the specified path\n",
    "os.chdir(directory_path)\n",
    "\n",
    "# Use a glob pattern to find all CSV files in the directory\n",
    "csv_files = glob.glob(\"*.txt\")\n",
    "\n",
    "# Create an empty DataFrame to store the data\n",
    "combined_data = pd.DataFrame()\n",
    "\n",
    "# Loop through all the CSV files and append them to the combined_data DataFrame\n",
    "for file in csv_files:\n",
    "    temp_df = pd.read_csv(file, header=None)\n",
    "    combined_data = combined_data.append(temp_df, ignore_index=True)\n",
    "\n",
    "# Print the combined data\n",
    "print(combined_data)"
   ]
  }
 ],
 "metadata": {
  "kernelspec": {
   "display_name": "Python 3",
   "language": "python",
   "name": "python3"
  },
  "language_info": {
   "file_extension": ".jl",
   "mimetype": "application/julia",
   "name": "python",
   "version": "3.9.13"
  },
  "orig_nbformat": 4
 },
 "nbformat": 4,
 "nbformat_minor": 2
}
